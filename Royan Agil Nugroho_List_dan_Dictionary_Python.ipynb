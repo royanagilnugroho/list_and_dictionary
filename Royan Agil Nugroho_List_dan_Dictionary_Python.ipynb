{
  "nbformat": 4,
  "nbformat_minor": 0,
  "metadata": {
    "colab": {
      "name": "Tugas_List_dan_Dictionary_Python.ipynb",
      "provenance": [],
      "include_colab_link": true
    },
    "kernelspec": {
      "name": "python3",
      "display_name": "Python 3"
    },
    "language_info": {
      "name": "python"
    }
  },
  "cells": [
    {
      "cell_type": "markdown",
      "metadata": {
        "id": "view-in-github",
        "colab_type": "text"
      },
      "source": [
        "<a href=\"https://colab.research.google.com/github/royanagilnugroho/list_and_dictionary/blob/main/Royan%20Agil%20Nugroho_List_dan_Dictionary_Python.ipynb\" target=\"_parent\"><img src=\"https://colab.research.google.com/assets/colab-badge.svg\" alt=\"Open In Colab\"/></a>"
      ]
    },
    {
      "cell_type": "markdown",
      "metadata": {
        "id": "kMd1Q9NB1BqH"
      },
      "source": [
        "1. Buatlah sebuah list dengan elemen bilangan kelipatan 5 dengan panjang elemen sejumlah 100"
      ]
    },
    {
      "cell_type": "code",
      "metadata": {
        "id": "ogBU6p9j0yXf"
      },
      "source": [
        "#Tuliskan kodemu di bawah ini:\n",
        "\n",
        "kelipatan = []\n",
        "\n",
        "for m in range(1,100+1):\n",
        "  kelipatan.append(5*m)\n",
        "\n",
        "print(kelipatan)\n",
        "print(len(kelipatan))\n",
        "\n"
      ],
      "execution_count": null,
      "outputs": []
    },
    {
      "cell_type": "markdown",
      "metadata": {
        "id": "OHyMAfrd1SL3"
      },
      "source": [
        "2. Buatlah sebuah dictionary dengan jumlah elemen 100 dan lakukanlah beberapa modifikasi(minimal 3) di dalamnya."
      ]
    },
    {
      "cell_type": "code",
      "metadata": {
        "id": "b40H0S8J1lD9"
      },
      "source": [
        "#Tuliskan kodemu di bawah ini:\n",
        "\n",
        "#Membuat Dictionary\n",
        "a=[]\n",
        "b=[]\n",
        "for x in range(1,100):\n",
        "  x.append(x)\n",
        "print(a)\n",
        "for y in range(100,1,-1) :\n",
        "  y.append(y)\n",
        "print(b)\n",
        "#Modifikasi 1\n",
        "del modif[25]\n",
        "print(modif)\n",
        "\n",
        "\n",
        "#Modifikasi 2\n",
        "\n",
        "modif = dict(zip(a,b))\n",
        "print(modf)\n",
        "\n",
        "\n",
        "#Modifikasi 3\n",
        "modif.update({50:1})\n",
        "print(modif)\n",
        "\n",
        "\n",
        "\n",
        "\n",
        "\n"
      ],
      "execution_count": null,
      "outputs": []
    }
  ]
}